{
 "cells": [
  {
   "cell_type": "markdown",
   "id": "539e4375-24cb-47db-b0e8-375b62eba57a",
   "metadata": {},
   "source": [
    "# Step 1. Importing packages"
   ]
  },
  {
   "cell_type": "code",
   "execution_count": null,
   "id": "5f4762eb-719d-4d95-bb5e-b6a135250578",
   "metadata": {},
   "outputs": [],
   "source": [
    "import tensorflow as tf # For defining and training the neural network\n",
    "import numpy as np # For convenient use of high-dimensional arrays\n",
    "from keras import datasets # For loading the MNIST dataset\n",
    "\n",
    "# To make things look easy\n",
    "from utils import show_image, to_vectors\n",
    "\n",
    "print(f'Using TensorFlow {tf.__version__}')\n",
    "np.set_printoptions(precision=3)"
   ]
  },
  {
   "cell_type": "markdown",
   "id": "25089126-262b-4603-ba81-27b3271e591a",
   "metadata": {},
   "source": [
    "# Step 2. Loading and displaying the MNIST dataset"
   ]
  },
  {
   "cell_type": "code",
   "execution_count": null,
   "id": "2a3c2ceb-7d85-4e44-b62c-26acd73e8464",
   "metadata": {},
   "outputs": [],
   "source": [
    "(X, y), _ = datasets.mnist.load_data()\n",
    "\n",
    "# To have activations in range (0, 1), \n",
    "# we divide everything by 255.0 (since grayscale colors \n",
    "# are specified in uint8 format which ranges from 0 to 255\n",
    "X = X / 255.0"
   ]
  },
  {
   "cell_type": "code",
   "execution_count": null,
   "id": "be1a42a7-bd30-4a2a-8ee5-909cf3477440",
   "metadata": {},
   "outputs": [],
   "source": [
    "index = 30\n",
    "show_image(X[index], y[index])"
   ]
  },
  {
   "cell_type": "markdown",
   "id": "7afb7434-73df-42d0-9db2-f068f22ea087",
   "metadata": {},
   "source": [
    "# Step 3. Defining the neural network structure"
   ]
  },
  {
   "cell_type": "code",
   "execution_count": null,
   "id": "7f052f96-f4f9-4189-b46b-dcbf517905fc",
   "metadata": {},
   "outputs": [],
   "source": [
    "neural_network = tf.keras.models.Sequential([\n",
    "    tf.keras.layers.Flatten(input_shape=(28,28)),\n",
    "    tf.keras.layers.Dense(\n",
    "        10000,\n",
    "        name='hidden_layer',\n",
    "        activation='sigmoid'\n",
    "    ),\n",
    "    tf.keras.layers.Dense(\n",
    "        10,  \n",
    "        name=\"output_layer\",\n",
    "        activation='sigmoid'\n",
    "    )\n",
    "])\n",
    "neural_network.summary()"
   ]
  },
  {
   "cell_type": "code",
   "execution_count": null,
   "id": "2ffa99f0-d19d-4e5f-b609-bb1793824ba7",
   "metadata": {},
   "outputs": [],
   "source": [
    "y_vectors = to_vectors(y)\n",
    "print(y[0])\n",
    "print(y_vectors[0])"
   ]
  },
  {
   "cell_type": "code",
   "execution_count": null,
   "id": "c9aa97ae-e66a-4669-b01a-c30b6f2276ff",
   "metadata": {},
   "outputs": [],
   "source": [
    "optimizer = tf.keras.optimizers.legacy.Adam(learning_rate=1e-5)\n",
    "neural_network.compile(loss='mse', optimizer=optimizer)\n",
    "neural_network.fit(\n",
    "    X, \n",
    "    y_vectors,\n",
    "    epochs=30,\n",
    "    verbose=1,\n",
    "    validation_split=0.2\n",
    ")"
   ]
  },
  {
   "cell_type": "code",
   "execution_count": null,
   "id": "93f902d0-8a2b-411b-96ab-f5bc4cebe0a8",
   "metadata": {},
   "outputs": [],
   "source": [
    "# Making prediction\n",
    "index = 65\n",
    "prediction = neural_network.predict(np.expand_dims(X[index], axis=0), verbose=0)\n",
    "\n",
    "# Displaying results\n",
    "print(f'Prediction in raw format: {prediction}')\n",
    "show_image(X[index], np.argmax(prediction[0]))"
   ]
  },
  {
   "cell_type": "code",
   "execution_count": null,
   "id": "ec87c7af-d200-4c99-8539-7df8ecdb2ca9",
   "metadata": {},
   "outputs": [],
   "source": []
  }
 ],
 "metadata": {
  "kernelspec": {
   "display_name": "Python 3 (ipykernel)",
   "language": "python",
   "name": "python3"
  },
  "language_info": {
   "codemirror_mode": {
    "name": "ipython",
    "version": 3
   },
   "file_extension": ".py",
   "mimetype": "text/x-python",
   "name": "python",
   "nbconvert_exporter": "python",
   "pygments_lexer": "ipython3",
   "version": "3.10.13"
  }
 },
 "nbformat": 4,
 "nbformat_minor": 5
}
